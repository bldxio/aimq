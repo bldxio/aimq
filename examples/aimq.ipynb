{
 "cells": [
  {
   "cell_type": "code",
   "execution_count": 1,
   "metadata": {},
   "outputs": [],
   "source": [
    "from rich import print\n",
    "from pydantic import BaseModel, Field\n",
    "\n",
    "from aimq.worker import Worker\n",
    "from aimq.helpers import assign, const, pick, orig, echo, select\n",
    "from aimq.tools.supabase import WriteRecord, ReadRecord, ReadFile, WriteFile, Enqueue\n",
    "from aimq.tools.pdf import PageSplitter\n",
    "\n",
    "from aimq.clients.supabase import supabase\n",
    "from aimq.clients.mistral import mistral\n",
    "\n"
   ]
  },
  {
   "cell_type": "code",
   "execution_count": 2,
   "metadata": {},
   "outputs": [],
   "source": [
    "worker = Worker()\n",
    "\n",
    "\"\"\"Attachment details.\"\"\"\n",
    "class AttachmentDetails(BaseModel):\n",
    "    summary: str = Field(..., description=\"Summary of the attachment\")\n",
    "    sentiment: str = Field(..., description=\"Sentiment of the attachment as a range from -1.00 to 1.00\")"
   ]
  },
  {
   "cell_type": "code",
   "execution_count": 3,
   "metadata": {},
   "outputs": [
    {
     "data": {
      "text/plain": [
       "61"
      ]
     },
     "execution_count": 3,
     "metadata": {},
     "output_type": "execute_result"
    }
   ],
   "source": [
    "@worker.task()\n",
    "def example(data: dict):\n",
    "    path = data.get(\"storagePath\")\n",
    "    attachment_id = data.get(\"attachmentId\")\n",
    "    supabase.client.table(\"attachments\").update({\"status\": \"processing\"}).eq(\"id\", attachment_id).execute()\n",
    "\n",
    "    file_data = supabase.client.storage.from_(\"attachments\").download(path)\n",
    "    uploaded_file = mistral.client.files.upload(file={\"file_name\": path, \"content\": file_data}, purpose=\"ocr\")\n",
    "    signed_url = mistral.client.files.get_signed_url(file_id=uploaded_file.id)\n",
    "    ocr_result = mistral.client.ocr.process(\n",
    "        model=\"mistral-ocr-latest\",\n",
    "        document={\"type\": \"document_url\", \"document_url\": signed_url.url}\n",
    "    )\n",
    "    # serialize ocr_result\n",
    "    ocr_result = ocr_result.model_dump()\n",
    "    # combine all pages into one string\n",
    "    ocr_content = \"\\n\".join([page[\"markdown\"] for page in ocr_result[\"pages\"]])\n",
    "\n",
    "    print(ocr_content)\n",
    "    \n",
    "    details = mistral.client.chat.parse(\n",
    "        messages=[\n",
    "            {\"role\": \"system\", \"content\": \"You are a summarizer. Given some markdown, summarize it and analyze the sentiment. sentiment is on a scale of -1.00 to 1.00 where -1.00 is very negative and 1.00 is very positive. 0 is neutral but should be avoided.\"},\n",
    "            {\"role\": \"user\", \"content\": ocr_content}\n",
    "        ],\n",
    "        model=\"mistral-large-latest\",\n",
    "        response_format=AttachmentDetails,\n",
    "        temperature=0.0\n",
    "    )\n",
    "    supabase.client.table(\"attachments\").update({\"content\": ocr_result, \"status\": \"processed\"}).eq(\"id\", attachment_id).execute()\n",
    "    return {\n",
    "        \"signed_url\": signed_url.url,\n",
    "        \"file_id\": uploaded_file.id,\n",
    "        \"attachment_id\": attachment_id,\n",
    "        \"details\": details.model_dump() \n",
    "    }\n",
    "\n",
    "worker.send(\"example\", {\n",
    "  \"fileSize\": 38366,\n",
    "  \"metadata\": {\n",
    "    \"eTag\": \"\\\"ab6bb464d6d465973193aec6160da55b\\\"\",\n",
    "    \"size\": 38366,\n",
    "    \"mimetype\": \"application/pdf\",\n",
    "    \"cacheControl\": \"no-cache\",\n",
    "    \"lastModified\": \"2025-09-16T14:09:39.369Z\",\n",
    "    \"contentLength\": 38366,\n",
    "    \"httpStatusCode\": 200\n",
    "  },\n",
    "  \"mimeType\": \"application/pdf\",\n",
    "  \"queuedAt\": \"2025-09-16T14:09:39.400713+00:00\",\n",
    "  \"channelId\": \"8ed1a67c-763e-4ada-a492-2fc16694d989\",\n",
    "  \"messageId\": \"4ccdcf31-c397-44e3-9036-08ea404c133a\",\n",
    "  \"storagePath\": \"de7d6ea0-5a28-49ad-a44c-29df0153d973/original.pdf\",\n",
    "  \"workspaceId\": \"dcec4c63-047e-45e9-bd13-6870c21a45b3\",\n",
    "  \"attachmentId\": \"de7d6ea0-5a28-49ad-a44c-29df0153d973\"\n",
    "})\n"
   ]
  },
  {
   "cell_type": "code",
   "execution_count": null,
   "metadata": {},
   "outputs": [],
   "source": []
  },
  {
   "cell_type": "code",
   "execution_count": 4,
   "metadata": {},
   "outputs": [],
   "source": [
    "worker.start(block=False)"
   ]
  },
  {
   "cell_type": "code",
   "execution_count": 6,
   "metadata": {},
   "outputs": [
    {
     "data": {
      "text/html": [
       "<pre style=\"white-space:pre;overflow-x:auto;line-height:normal;font-family:Menlo,'DejaVu Sans Mono',consolas,'Courier New',monospace\"><span style=\"color: #008000; text-decoration-color: #008000\">╭─────────────────────────────────────────────────────────────────────────────────────────────────────────────────╮</span>\n",
       "<span style=\"color: #008000; text-decoration-color: #008000\">│</span> <span style=\"color: #008000; text-decoration-color: #008000\">ℹ️ INFO: </span><span style=\"color: #7fbf7f; text-decoration-color: #7fbf7f\">Processing job 54 in queue example</span>                                                                      <span style=\"color: #008000; text-decoration-color: #008000\">│</span>\n",
       "<span style=\"color: #008000; text-decoration-color: #008000\">│</span> <span style=\"color: #008000; text-decoration-color: #008000; font-weight: bold\">Data: </span><span style=\"color: #7fbf7f; text-decoration-color: #7fbf7f\">{'fileSize': 38366, 'metadata': {'eTag': '\"ab6bb464d6d465973193aec6160da55b\"', 'size': 38366, 'mimetype':</span> <span style=\"color: #008000; text-decoration-color: #008000\">│</span>\n",
       "<span style=\"color: #008000; text-decoration-color: #008000\">│</span> <span style=\"color: #7fbf7f; text-decoration-color: #7fbf7f\">'application/pdf', 'cacheControl': 'no-cache', 'lastModified': '2025-09-16T14:09:39.369Z', 'contentLength': </span>    <span style=\"color: #008000; text-decoration-color: #008000\">│</span>\n",
       "<span style=\"color: #008000; text-decoration-color: #008000\">│</span> <span style=\"color: #7fbf7f; text-decoration-color: #7fbf7f\">38366, 'httpStatusCode': 200}, 'mimeType': 'application/pdf', 'queuedAt': '2025-09-16T14:09:39.400713+00:00', </span>  <span style=\"color: #008000; text-decoration-color: #008000\">│</span>\n",
       "<span style=\"color: #008000; text-decoration-color: #008000\">│</span> <span style=\"color: #7fbf7f; text-decoration-color: #7fbf7f\">'channelId': '8ed1a67c-763e-4ada-a492-2fc16694d989', 'messageId': '4ccdcf31-c397-44e3-9036-08ea404c133a', </span>      <span style=\"color: #008000; text-decoration-color: #008000\">│</span>\n",
       "<span style=\"color: #008000; text-decoration-color: #008000\">│</span> <span style=\"color: #7fbf7f; text-decoration-color: #7fbf7f\">'storagePath': 'de7d6ea0-5a28-49ad-a44c-29df0153d973/original.pdf', 'workspaceId': </span>                             <span style=\"color: #008000; text-decoration-color: #008000\">│</span>\n",
       "<span style=\"color: #008000; text-decoration-color: #008000\">│</span> <span style=\"color: #7fbf7f; text-decoration-color: #7fbf7f\">'dcec4c63-047e-45e9-bd13-6870c21a45b3', 'attachmentId': 'de7d6ea0-5a28-49ad-a44c-29df0153d973'}</span>                 <span style=\"color: #008000; text-decoration-color: #008000\">│</span>\n",
       "<span style=\"color: #008000; text-decoration-color: #008000\">╰─────────────────────────────────────────────────────────────────────────────────────────────────────────────────╯</span>\n",
       "</pre>\n"
      ],
      "text/plain": [
       "\u001b[32m╭─────────────────────────────────────────────────────────────────────────────────────────────────────────────────╮\u001b[0m\n",
       "\u001b[32m│\u001b[0m \u001b[32mℹ️ INFO: \u001b[0m\u001b[2;32mProcessing job 54 in queue example\u001b[0m                                                                      \u001b[32m│\u001b[0m\n",
       "\u001b[32m│\u001b[0m \u001b[1;32mData: \u001b[0m\u001b[2;32m{'fileSize': 38366, 'metadata': {'eTag': '\"ab6bb464d6d465973193aec6160da55b\"', 'size': 38366, 'mimetype':\u001b[0m \u001b[32m│\u001b[0m\n",
       "\u001b[32m│\u001b[0m \u001b[2;32m'application/pdf', 'cacheControl': 'no-cache', 'lastModified': '2025-09-16T14:09:39.369Z', 'contentLength': \u001b[0m    \u001b[32m│\u001b[0m\n",
       "\u001b[32m│\u001b[0m \u001b[2;32m38366, 'httpStatusCode': 200}, 'mimeType': 'application/pdf', 'queuedAt': '2025-09-16T14:09:39.400713+00:00', \u001b[0m  \u001b[32m│\u001b[0m\n",
       "\u001b[32m│\u001b[0m \u001b[2;32m'channelId': '8ed1a67c-763e-4ada-a492-2fc16694d989', 'messageId': '4ccdcf31-c397-44e3-9036-08ea404c133a', \u001b[0m      \u001b[32m│\u001b[0m\n",
       "\u001b[32m│\u001b[0m \u001b[2;32m'storagePath': 'de7d6ea0-5a28-49ad-a44c-29df0153d973/original.pdf', 'workspaceId': \u001b[0m                             \u001b[32m│\u001b[0m\n",
       "\u001b[32m│\u001b[0m \u001b[2;32m'dcec4c63-047e-45e9-bd13-6870c21a45b3', 'attachmentId': 'de7d6ea0-5a28-49ad-a44c-29df0153d973'}\u001b[0m                 \u001b[32m│\u001b[0m\n",
       "\u001b[32m╰─────────────────────────────────────────────────────────────────────────────────────────────────────────────────╯\u001b[0m\n"
      ]
     },
     "metadata": {},
     "output_type": "display_data"
    },
    {
     "data": {
      "text/html": [
       "<pre style=\"white-space:pre;overflow-x:auto;line-height:normal;font-family:Menlo,'DejaVu Sans Mono',consolas,'Courier New',monospace\"><span style=\"color: #008000; text-decoration-color: #008000\">╭─────────────────────────────────────────────────────────────────────────────────────────────────────────────────╮</span>\n",
       "<span style=\"color: #008000; text-decoration-color: #008000\">│</span> <span style=\"color: #008000; text-decoration-color: #008000\">ℹ️ INFO: </span><span style=\"color: #7fbf7f; text-decoration-color: #7fbf7f\">Job 54 processed successfully</span>                                                                           <span style=\"color: #008000; text-decoration-color: #008000\">│</span>\n",
       "<span style=\"color: #008000; text-decoration-color: #008000\">│</span> <span style=\"color: #008000; text-decoration-color: #008000; font-weight: bold\">Data: </span><span style=\"color: #7fbf7f; text-decoration-color: #7fbf7f\">{'signed_url': </span>                                                                                           <span style=\"color: #008000; text-decoration-color: #008000\">│</span>\n",
       "<span style=\"color: #008000; text-decoration-color: #008000\">│</span> <span style=\"color: #7fbf7f; text-decoration-color: #7fbf7f\">'https://mistralaifilesapiprodswe.blob.core.windows.net/fine-tune/7935e1cb-2170-4b7b-816c-6e36d6241a8c/8a692f94</span> <span style=\"color: #008000; text-decoration-color: #008000\">│</span>\n",
       "<span style=\"color: #008000; text-decoration-color: #008000\">│</span> <span style=\"color: #7fbf7f; text-decoration-color: #7fbf7f\">-c4b6-4d4c-9345-b217c4710f1d/a95ab686c20b41cb9a60cc12d60c0f4e.pdf?se=2025-09-17T15%3A05%3A31Z&amp;sp=r&amp;sv=2025-01-0</span> <span style=\"color: #008000; text-decoration-color: #008000\">│</span>\n",
       "<span style=\"color: #008000; text-decoration-color: #008000\">│</span> <span style=\"color: #7fbf7f; text-decoration-color: #7fbf7f\">5&amp;sr=b&amp;sig=wUeoa%2BlPNo6NKDScue3o/t%2BrK2rHkWQIlmSmtxMtuMc%3D', 'file_id': </span>                                     <span style=\"color: #008000; text-decoration-color: #008000\">│</span>\n",
       "<span style=\"color: #008000; text-decoration-color: #008000\">│</span> <span style=\"color: #7fbf7f; text-decoration-color: #7fbf7f\">'a95ab686-c20b-41cb-9a60-cc12d60c0f4e', 'attachment_id': 'de7d6ea0-5a28-49ad-a44c-29df0153d973', 'details': </span>    <span style=\"color: #008000; text-decoration-color: #008000\">│</span>\n",
       "<span style=\"color: #008000; text-decoration-color: #008000\">│</span> <span style=\"color: #7fbf7f; text-decoration-color: #7fbf7f\">{'id': '78590bab90804e9aa169ec5131ea9498', 'object': 'chat.completion', 'model': 'mistral-large-latest', </span>       <span style=\"color: #008000; text-decoration-color: #008000\">│</span>\n",
       "<span style=\"color: #008000; text-decoration-color: #008000\">│</span> <span style=\"color: #7fbf7f; text-decoration-color: #7fbf7f\">'usage': {'prompt_tokens': 1497, 'completion_tokens': 153, 'total_tokens': 1650}, 'created': 1758035135, </span>       <span style=\"color: #008000; text-decoration-color: #008000\">│</span>\n",
       "<span style=\"color: #008000; text-decoration-color: #008000\">│</span> <span style=\"color: #7fbf7f; text-decoration-color: #7fbf7f\">'choices': [{'index': 0, 'message': {'content': '{\\n  \"summary\": \"The document is a hot list log detailing </span>     <span style=\"color: #008000; text-decoration-color: #008000\">│</span>\n",
       "<span style=\"color: #008000; text-decoration-color: #008000\">│</span> <span style=\"color: #7fbf7f; text-decoration-color: #7fbf7f\">various ongoing projects and their status updates. Key items include the NVE Equipment Relocation Coordination,</span> <span style=\"color: #008000; text-decoration-color: #008000\">│</span>\n",
       "<span style=\"color: #008000; text-decoration-color: #008000\">│</span> <span style=\"color: #7fbf7f; text-decoration-color: #7fbf7f\">which involves bi-weekly meetings and potential relocation due to construction. The Differentiation Document, </span>  <span style=\"color: #008000; text-decoration-color: #008000\">│</span>\n",
       "<span style=\"color: #008000; text-decoration-color: #008000\">│</span> <span style=\"color: #7fbf7f; text-decoration-color: #7fbf7f\">initially open but now closed, involved assumptions and reviews by multiple parties. The Test Pile Program is </span>  <span style=\"color: #008000; text-decoration-color: #008000\">│</span>\n",
       "<span style=\"color: #008000; text-decoration-color: #008000\">│</span> <span style=\"color: #7fbf7f; text-decoration-color: #7fbf7f\">in progress with meetings and approvals ongoing. The Secondary Fire Pump Location project, now closed, involved</span> <span style=\"color: #008000; text-decoration-color: #008000\">│</span>\n",
       "<span style=\"color: #008000; text-decoration-color: #008000\">│</span> <span style=\"color: #7fbf7f; text-decoration-color: #7fbf7f\">cost comparisons and recommendations. Other open items include decisions on glass types for the exterior </span>       <span style=\"color: #008000; text-decoration-color: #008000\">│</span>\n",
       "<span style=\"color: #008000; text-decoration-color: #008000\">│</span> <span style=\"color: #7fbf7f; text-decoration-color: #7fbf7f\">curtain wall, relative humidity specifications, aluminum cost escalation, and the release of exterior blue </span>     <span style=\"color: #008000; text-decoration-color: #008000\">│</span>\n",
       "<span style=\"color: #008000; text-decoration-color: #008000\">│</span> <span style=\"color: #7fbf7f; text-decoration-color: #7fbf7f\">glass. Each item has detailed notes on the progress and next steps.\",\\n  \"sentiment\": \"0.1\"\\n}', 'tool_calls': </span> <span style=\"color: #008000; text-decoration-color: #008000\">│</span>\n",
       "<span style=\"color: #008000; text-decoration-color: #008000\">│</span> <span style=\"color: #7fbf7f; text-decoration-color: #7fbf7f\">None, 'prefix': False, 'role': 'assistant', 'parsed': {'summary': 'The document is a hot list log detailing </span>    <span style=\"color: #008000; text-decoration-color: #008000\">│</span>\n",
       "<span style=\"color: #008000; text-decoration-color: #008000\">│</span> <span style=\"color: #7fbf7f; text-decoration-color: #7fbf7f\">various ongoing projects and their status updates. Key items include the NVE Equipment Relocation Coordination,</span> <span style=\"color: #008000; text-decoration-color: #008000\">│</span>\n",
       "<span style=\"color: #008000; text-decoration-color: #008000\">│</span> <span style=\"color: #7fbf7f; text-decoration-color: #7fbf7f\">which involves bi-weekly meetings and potential relocation due to construction. The Differentiation Document, </span>  <span style=\"color: #008000; text-decoration-color: #008000\">│</span>\n",
       "<span style=\"color: #008000; text-decoration-color: #008000\">│</span> <span style=\"color: #7fbf7f; text-decoration-color: #7fbf7f\">initially open but now closed, involved assumptions and reviews by multiple parties. The Test Pile Program is </span>  <span style=\"color: #008000; text-decoration-color: #008000\">│</span>\n",
       "<span style=\"color: #008000; text-decoration-color: #008000\">│</span> <span style=\"color: #7fbf7f; text-decoration-color: #7fbf7f\">in progress with meetings and approvals ongoing. The Secondary Fire Pump Location project, now closed, involved</span> <span style=\"color: #008000; text-decoration-color: #008000\">│</span>\n",
       "<span style=\"color: #008000; text-decoration-color: #008000\">│</span> <span style=\"color: #7fbf7f; text-decoration-color: #7fbf7f\">cost comparisons and recommendations. Other open items include decisions on glass types for the exterior </span>       <span style=\"color: #008000; text-decoration-color: #008000\">│</span>\n",
       "<span style=\"color: #008000; text-decoration-color: #008000\">│</span> <span style=\"color: #7fbf7f; text-decoration-color: #7fbf7f\">curtain wall, relative humidity specifications, aluminum cost escalation, and the release of exterior blue </span>     <span style=\"color: #008000; text-decoration-color: #008000\">│</span>\n",
       "<span style=\"color: #008000; text-decoration-color: #008000\">│</span> <span style=\"color: #7fbf7f; text-decoration-color: #7fbf7f\">glass. Each item has detailed notes on the progress and next steps.', 'sentiment': '0.1'}}, 'finish_reason': </span>   <span style=\"color: #008000; text-decoration-color: #008000\">│</span>\n",
       "<span style=\"color: #008000; text-decoration-color: #008000\">│</span> <span style=\"color: #7fbf7f; text-decoration-color: #7fbf7f\">'stop'}]}}</span>                                                                                                      <span style=\"color: #008000; text-decoration-color: #008000\">│</span>\n",
       "<span style=\"color: #008000; text-decoration-color: #008000\">╰─────────────────────────────────────────────────────────────────────────────────────────────────────────────────╯</span>\n",
       "</pre>\n"
      ],
      "text/plain": [
       "\u001b[32m╭─────────────────────────────────────────────────────────────────────────────────────────────────────────────────╮\u001b[0m\n",
       "\u001b[32m│\u001b[0m \u001b[32mℹ️ INFO: \u001b[0m\u001b[2;32mJob 54 processed successfully\u001b[0m                                                                           \u001b[32m│\u001b[0m\n",
       "\u001b[32m│\u001b[0m \u001b[1;32mData: \u001b[0m\u001b[2;32m{'signed_url': \u001b[0m                                                                                           \u001b[32m│\u001b[0m\n",
       "\u001b[32m│\u001b[0m \u001b[2;32m'https://mistralaifilesapiprodswe.blob.core.windows.net/fine-tune/7935e1cb-2170-4b7b-816c-6e36d6241a8c/8a692f94\u001b[0m \u001b[32m│\u001b[0m\n",
       "\u001b[32m│\u001b[0m \u001b[2;32m-c4b6-4d4c-9345-b217c4710f1d/a95ab686c20b41cb9a60cc12d60c0f4e.pdf?se=2025-09-17T15%3A05%3A31Z&sp=r&sv=2025-01-0\u001b[0m \u001b[32m│\u001b[0m\n",
       "\u001b[32m│\u001b[0m \u001b[2;32m5&sr=b&sig=wUeoa%2BlPNo6NKDScue3o/t%2BrK2rHkWQIlmSmtxMtuMc%3D', 'file_id': \u001b[0m                                     \u001b[32m│\u001b[0m\n",
       "\u001b[32m│\u001b[0m \u001b[2;32m'a95ab686-c20b-41cb-9a60-cc12d60c0f4e', 'attachment_id': 'de7d6ea0-5a28-49ad-a44c-29df0153d973', 'details': \u001b[0m    \u001b[32m│\u001b[0m\n",
       "\u001b[32m│\u001b[0m \u001b[2;32m{'id': '78590bab90804e9aa169ec5131ea9498', 'object': 'chat.completion', 'model': 'mistral-large-latest', \u001b[0m       \u001b[32m│\u001b[0m\n",
       "\u001b[32m│\u001b[0m \u001b[2;32m'usage': {'prompt_tokens': 1497, 'completion_tokens': 153, 'total_tokens': 1650}, 'created': 1758035135, \u001b[0m       \u001b[32m│\u001b[0m\n",
       "\u001b[32m│\u001b[0m \u001b[2;32m'choices': [{'index': 0, 'message': {'content': '{\\n  \"summary\": \"The document is a hot list log detailing \u001b[0m     \u001b[32m│\u001b[0m\n",
       "\u001b[32m│\u001b[0m \u001b[2;32mvarious ongoing projects and their status updates. Key items include the NVE Equipment Relocation Coordination,\u001b[0m \u001b[32m│\u001b[0m\n",
       "\u001b[32m│\u001b[0m \u001b[2;32mwhich involves bi-weekly meetings and potential relocation due to construction. The Differentiation Document, \u001b[0m  \u001b[32m│\u001b[0m\n",
       "\u001b[32m│\u001b[0m \u001b[2;32minitially open but now closed, involved assumptions and reviews by multiple parties. The Test Pile Program is \u001b[0m  \u001b[32m│\u001b[0m\n",
       "\u001b[32m│\u001b[0m \u001b[2;32min progress with meetings and approvals ongoing. The Secondary Fire Pump Location project, now closed, involved\u001b[0m \u001b[32m│\u001b[0m\n",
       "\u001b[32m│\u001b[0m \u001b[2;32mcost comparisons and recommendations. Other open items include decisions on glass types for the exterior \u001b[0m       \u001b[32m│\u001b[0m\n",
       "\u001b[32m│\u001b[0m \u001b[2;32mcurtain wall, relative humidity specifications, aluminum cost escalation, and the release of exterior blue \u001b[0m     \u001b[32m│\u001b[0m\n",
       "\u001b[32m│\u001b[0m \u001b[2;32mglass. Each item has detailed notes on the progress and next steps.\",\\n  \"sentiment\": \"0.1\"\\n}', 'tool_calls': \u001b[0m \u001b[32m│\u001b[0m\n",
       "\u001b[32m│\u001b[0m \u001b[2;32mNone, 'prefix': False, 'role': 'assistant', 'parsed': {'summary': 'The document is a hot list log detailing \u001b[0m    \u001b[32m│\u001b[0m\n",
       "\u001b[32m│\u001b[0m \u001b[2;32mvarious ongoing projects and their status updates. Key items include the NVE Equipment Relocation Coordination,\u001b[0m \u001b[32m│\u001b[0m\n",
       "\u001b[32m│\u001b[0m \u001b[2;32mwhich involves bi-weekly meetings and potential relocation due to construction. The Differentiation Document, \u001b[0m  \u001b[32m│\u001b[0m\n",
       "\u001b[32m│\u001b[0m \u001b[2;32minitially open but now closed, involved assumptions and reviews by multiple parties. The Test Pile Program is \u001b[0m  \u001b[32m│\u001b[0m\n",
       "\u001b[32m│\u001b[0m \u001b[2;32min progress with meetings and approvals ongoing. The Secondary Fire Pump Location project, now closed, involved\u001b[0m \u001b[32m│\u001b[0m\n",
       "\u001b[32m│\u001b[0m \u001b[2;32mcost comparisons and recommendations. Other open items include decisions on glass types for the exterior \u001b[0m       \u001b[32m│\u001b[0m\n",
       "\u001b[32m│\u001b[0m \u001b[2;32mcurtain wall, relative humidity specifications, aluminum cost escalation, and the release of exterior blue \u001b[0m     \u001b[32m│\u001b[0m\n",
       "\u001b[32m│\u001b[0m \u001b[2;32mglass. Each item has detailed notes on the progress and next steps.', 'sentiment': '0.1'}}, 'finish_reason': \u001b[0m   \u001b[32m│\u001b[0m\n",
       "\u001b[32m│\u001b[0m \u001b[2;32m'stop'}]}}\u001b[0m                                                                                                      \u001b[32m│\u001b[0m\n",
       "\u001b[32m╰─────────────────────────────────────────────────────────────────────────────────────────────────────────────────╯\u001b[0m\n"
      ]
     },
     "metadata": {},
     "output_type": "display_data"
    },
    {
     "data": {
      "text/html": [
       "<pre style=\"white-space:pre;overflow-x:auto;line-height:normal;font-family:Menlo,'DejaVu Sans Mono',consolas,'Courier New',monospace\"><span style=\"color: #008000; text-decoration-color: #008000\">╭─────────────────────────────────────────────────────────────────────────────────────────────────────────────────╮</span>\n",
       "<span style=\"color: #008000; text-decoration-color: #008000\">│</span> <span style=\"color: #008000; text-decoration-color: #008000\">ℹ️ INFO: </span><span style=\"color: #7fbf7f; text-decoration-color: #7fbf7f\">Archived job 54 from queue example</span>                                                                      <span style=\"color: #008000; text-decoration-color: #008000\">│</span>\n",
       "<span style=\"color: #008000; text-decoration-color: #008000\">╰─────────────────────────────────────────────────────────────────────────────────────────────────────────────────╯</span>\n",
       "</pre>\n"
      ],
      "text/plain": [
       "\u001b[32m╭─────────────────────────────────────────────────────────────────────────────────────────────────────────────────╮\u001b[0m\n",
       "\u001b[32m│\u001b[0m \u001b[32mℹ️ INFO: \u001b[0m\u001b[2;32mArchived job 54 from queue example\u001b[0m                                                                      \u001b[32m│\u001b[0m\n",
       "\u001b[32m╰─────────────────────────────────────────────────────────────────────────────────────────────────────────────────╯\u001b[0m\n"
      ]
     },
     "metadata": {},
     "output_type": "display_data"
    },
    {
     "data": {
      "text/html": [
       "<pre style=\"white-space:pre;overflow-x:auto;line-height:normal;font-family:Menlo,'DejaVu Sans Mono',consolas,'Courier New',monospace\"><span style=\"color: #008000; text-decoration-color: #008000\">╭─────────────────────────────────────────────────────────────────────────────────────────────────────────────────╮</span>\n",
       "<span style=\"color: #008000; text-decoration-color: #008000\">│</span> <span style=\"color: #008000; text-decoration-color: #008000\">ℹ️ INFO: </span><span style=\"color: #7fbf7f; text-decoration-color: #7fbf7f\">Worker stopped</span>                                                                                          <span style=\"color: #008000; text-decoration-color: #008000\">│</span>\n",
       "<span style=\"color: #008000; text-decoration-color: #008000\">╰─────────────────────────────────────────────────────────────────────────────────────────────────────────────────╯</span>\n",
       "</pre>\n"
      ],
      "text/plain": [
       "\u001b[32m╭─────────────────────────────────────────────────────────────────────────────────────────────────────────────────╮\u001b[0m\n",
       "\u001b[32m│\u001b[0m \u001b[32mℹ️ INFO: \u001b[0m\u001b[2;32mWorker stopped\u001b[0m                                                                                          \u001b[32m│\u001b[0m\n",
       "\u001b[32m╰─────────────────────────────────────────────────────────────────────────────────────────────────────────────────╯\u001b[0m\n"
      ]
     },
     "metadata": {},
     "output_type": "display_data"
    }
   ],
   "source": [
    "worker.log(block=False)\n",
    "worker.stop()"
   ]
  }
 ],
 "metadata": {
  "kernelspec": {
   "display_name": ".venv",
   "language": "python",
   "name": "python3"
  },
  "language_info": {
   "codemirror_mode": {
    "name": "ipython",
    "version": 3
   },
   "file_extension": ".py",
   "mimetype": "text/x-python",
   "name": "python",
   "nbconvert_exporter": "python",
   "pygments_lexer": "ipython3",
   "version": "3.12.10"
  }
 },
 "nbformat": 4,
 "nbformat_minor": 2
}
